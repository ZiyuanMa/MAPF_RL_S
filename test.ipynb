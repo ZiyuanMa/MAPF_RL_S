{
 "nbformat": 4,
 "nbformat_minor": 2,
 "metadata": {
  "language_info": {
   "name": "python",
   "codemirror_mode": {
    "name": "ipython",
    "version": 3
   },
   "version": "3.7.5-final"
  },
  "orig_nbformat": 2,
  "file_extension": ".py",
  "mimetype": "text/x-python",
  "name": "python",
  "npconvert_exporter": "python",
  "pygments_lexer": "ipython3",
  "version": 3,
  "kernelspec": {
   "name": "python37564bita3b3de0fa6694f1aa633388320ce4b77",
   "display_name": "Python 3.7.5 64-bit"
  }
 },
 "cells": [
  {
   "cell_type": "code",
   "execution_count": 1,
   "metadata": {},
   "outputs": [],
   "source": [
    "import torch\n",
    "import torch.nn as nn"
   ]
  },
  {
   "cell_type": "code",
   "execution_count": 9,
   "metadata": {},
   "outputs": [],
   "source": [
    "gru = nn.GRU(512, 512)"
   ]
  },
  {
   "cell_type": "code",
   "execution_count": 15,
   "metadata": {},
   "outputs": [
    {
     "output_type": "stream",
     "name": "stdout",
     "text": "tensor([[-0.0359, -0.0291,  0.0222,  ...,  0.0342, -0.0039,  0.0441],\n        [ 0.0273, -0.0387,  0.0115,  ...,  0.0043, -0.0415,  0.0320],\n        [ 0.0131, -0.0085,  0.0002,  ..., -0.0254, -0.0152,  0.0117],\n        ...,\n        [ 0.0270,  0.0213, -0.0384,  ...,  0.0217, -0.0255, -0.0206],\n        [-0.0356, -0.0196, -0.0038,  ..., -0.0163,  0.0042, -0.0321],\n        [ 0.0034, -0.0154,  0.0292,  ...,  0.0373,  0.0421,  0.0427]])\ntensor([[ 0.0051, -0.0396,  0.0025,  ...,  0.0012,  0.0039,  0.0338],\n        [ 0.0092, -0.0329, -0.0304,  ...,  0.0296, -0.0433,  0.0347],\n        [-0.0397, -0.0156, -0.0427,  ..., -0.0074, -0.0056, -0.0280],\n        ...,\n        [-0.0170, -0.0007, -0.0062,  ...,  0.0184,  0.0157,  0.0345],\n        [-0.0177,  0.0008, -0.0221,  ..., -0.0102,  0.0411,  0.0387],\n        [-0.0374,  0.0156,  0.0396,  ...,  0.0290, -0.0420,  0.0049]])\ntensor([-0.0155,  0.0334,  0.0277,  ..., -0.0182, -0.0362, -0.0360])\ntensor([-0.0083,  0.0284, -0.0088,  ...,  0.0098,  0.0374,  0.0318])\n"
    }
   ],
   "source": [
    "for a in gru.parameters():\n",
    "    print(a.data)"
   ]
  },
  {
   "cell_type": "code",
   "execution_count": null,
   "metadata": {},
   "outputs": [],
   "source": []
  }
 ]
}